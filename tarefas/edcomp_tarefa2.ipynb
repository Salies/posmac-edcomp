{
 "cells": [
  {
   "cell_type": "code",
   "execution_count": 1,
   "metadata": {},
   "outputs": [],
   "source": [
    "import numpy as np\n",
    "import matplotlib.pyplot as plt\n",
    "from tabulate import tabulate"
   ]
  },
  {
   "cell_type": "code",
   "execution_count": null,
   "metadata": {},
   "outputs": [],
   "source": [
    "funcoes = [\n",
    "    {\n",
    "        'deriv_py': lambda x, y: x - y,\n",
    "        'deriv_latex': 'x - y',\n",
    "        's_exata': lambda x: x - 1 + 2 * np.exp(-x),\n",
    "        'init_x': 0,\n",
    "        'valor_inicial': 1,\n",
    "        'letra': 'a',\n",
    "        'intervalo': (0, 1)\n",
    "    },\n",
    "    {\n",
    "        'deriv_py': lambda x, y: -2 * x * y,\n",
    "        'deriv_latex': '-2xy',\n",
    "        's_exata': lambda x: np.exp(-x**2),\n",
    "        'init_x': -2.5,\n",
    "        'valor_inicial': np.exp(-6.25),\n",
    "        'letra': 'b',\n",
    "        'intervalo': (-2.5, 2.5)\n",
    "    },\n",
    "    {\n",
    "        'deriv_py': lambda x, y: 5 * y - 1,\n",
    "        'deriv_latex': '5y - 1',\n",
    "        's_exata': lambda x: np.exp(5 * x) + 0.2,\n",
    "        'init_x': 0,\n",
    "        'valor_inicial': 1.2,\n",
    "        'letra': 'c',\n",
    "        'intervalo': (0, 2)\n",
    "    },\n",
    "    {\n",
    "        'deriv_py': lambda x, y: y - x**2 + 1,\n",
    "        'deriv_latex': 'y - x^2 + 1',\n",
    "        's_exata': lambda x: (x + 1)**2 - 0.5 * np.exp(x),\n",
    "        'init_x': 0,\n",
    "        'valor_inicial': 0.5,\n",
    "        'letra': 'd',\n",
    "        'intervalo': (0, 2)\n",
    "    },\n",
    "    {\n",
    "        'deriv_py': lambda x, y: np.sin(x) / 3 * y,\n",
    "        'deriv_latex': '\\\\frac{\\\\sin(x)}{3y}',\n",
    "        's_exata': lambda x: np.sqrt((10 / 3) - (2 * np.cos(x) / 3)),\n",
    "        'init_x': np.pi,\n",
    "        'valor_inicial': 2,\n",
    "        'letra': 'e',\n",
    "        'intervalo': (-1, 1)\n",
    "    },\n",
    "]"
   ]
  }
 ],
 "metadata": {
  "kernelspec": {
   "display_name": ".venv",
   "language": "python",
   "name": "python3"
  },
  "language_info": {
   "codemirror_mode": {
    "name": "ipython",
    "version": 3
   },
   "file_extension": ".py",
   "mimetype": "text/x-python",
   "name": "python",
   "nbconvert_exporter": "python",
   "pygments_lexer": "ipython3",
   "version": "3.11.7"
  }
 },
 "nbformat": 4,
 "nbformat_minor": 2
}
